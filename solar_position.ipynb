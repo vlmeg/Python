{
 "cells": [
  {
   "cell_type": "markdown",
   "metadata": {},
   "source": [
    "##Solar Position algorithm"
   ]
  },
  {
   "cell_type": "code",
   "execution_count": null,
   "metadata": {
    "collapsed": true
   },
   "outputs": [],
   "source": [
    "  def solar_pos(self, hour, minute):\n",
    "        \"\"\"\n",
    "        Calculate the basic solar position parameters.\n",
    "\n",
    "        Parameters\n",
    "        ----------\n",
    "        hour : interger values\n",
    "            value must be between 0 and 23\n",
    "        minute : interger values\n",
    "            value must be between 0 and 60\n",
    "\n",
    "        Returns\n",
    "        -------\n",
    "        List of Equation of time, declination angle, solar hour angle,\n",
    "        solar altitude and solar azimuth.\n",
    "\n",
    "        Note\n",
    "        -------\n",
    "        Equations for solar position is based on the Yallops method\n",
    "        (T. Muneer. Solar Radiation and Daylight Models. 2004)\n",
    "        \"\"\"\n",
    "        loc = location()\n",
    "        ut_ = (hour) + (minute/60.0) + (self.lsm/15.0)\n",
    "        if int(self.mon) > 2:\n",
    "            year1 = self.year\n",
    "            month1 = int(self.mon) - 3\n",
    "        else:\n",
    "            year1 = self.year - 1\n",
    "            month1 = int(self.mon) + 9\n",
    "        ylt = ((ut_/24.0) + int(self.day) + int(30.6*month1+0.5) + int(365.25*\n",
    "        (year1-1976)) - 8707.5)/36525.0\n",
    "        termg = 357.528 + 35999.050*ylt\n",
    "        if termg > 360.0:\n",
    "            g360 = termg - int(termg/360.0)*360.0\n",
    "        else:\n",
    "            g360 = termg\n",
    "        termc = 1.915*np.sin(g360*RTOD) + 0.020*np.sin(2*g360*RTOD)\n",
    "        terml = 280.460 + 36000.770*ylt + termc\n",
    "        if termg > 360.0:\n",
    "            xl360 = terml - int(terml/360.0)*360.0\n",
    "        else:\n",
    "            xl360 = terml\n",
    "        alpha = xl360 - 2.466*np.sin(2*xl360*RTOD) + 0.053*np.sin(4*xl360*RTOD)\n",
    "        gha = 15.0*ut_-180.0 - termc + xl360-alpha\n",
    "        if termg > 360.0:\n",
    "            gha360 = gha - int(gha/360.0)*360.0\n",
    "        else:\n",
    "            gha360 = gha\n",
    "        ecliptic = 23.4393 - 0.013*ylt\n",
    "        eot = xl360 - termc - alpha\n",
    "        dec = np.arctan(np.tan(ecliptic*RTOD)*np.sin(alpha*RTOD))/RTOD\n",
    "        sha = gha360+(loc['long'])\n",
    "        solelevation = np.arcsin(np.sin(loc['lat']*RTOD)*np.sin(dec*RTOD) -\n",
    "        np.cos(loc['lat']*RTOD)*np.cos(dec*RTOD)*np.cos((sha+180.0)*RTOD))/RTOD\n",
    "        f_1 = np.cos(loc['lat']*RTOD)*np.tan(dec*RTOD)+ \\\n",
    "        np.sin(loc['lat']*RTOD)*np.cos((sha+180.0)*RTOD)\n",
    "        solazm = np.arccos(f_1*np.cos(dec*RTOD)/np.cos(solelevation*RTOD))/RTOD\n",
    "        if sha > 0.0:\n",
    "            solazm = 360.0 - solazm\n",
    "\n",
    "        solaoi = np.arccos(np.cos(loc['Tilt']*RTOD)*np.sin(solelevation*RTOD)+\\\n",
    "        np.sin(loc['Tilt']*RTOD)*np.cos(solelevation*RTOD)*np.cos((solazm- \\\n",
    "        loc['Azimuth'])*RTOD))/RTOD\n",
    "\n",
    "        return eot, dec, sha, solelevation, solazm, solaoi"
   ]
  }
 ],
 "metadata": {
  "kernelspec": {
   "display_name": "Python 2",
   "language": "python",
   "name": "python2"
  },
  "language_info": {
   "codemirror_mode": {
    "name": "ipython",
    "version": 2
   },
   "file_extension": ".py",
   "mimetype": "text/x-python",
   "name": "python",
   "nbconvert_exporter": "python",
   "pygments_lexer": "ipython2",
   "version": "2.7.9"
  }
 },
 "nbformat": 4,
 "nbformat_minor": 0
}
