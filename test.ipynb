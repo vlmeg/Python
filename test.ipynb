{
 "cells": [
  {
   "cell_type": "markdown",
   "metadata": {},
   "source": [
    "# Modules installed"
   ]
  },
  {
   "cell_type": "code",
   "execution_count": null,
   "metadata": {
    "collapsed": false
   },
   "outputs": [],
   "source": [
    "#List of Locally installed Modules\n",
    "\n",
    "import pip\n",
    "installed_packages = pip.get_installed_distributions()\n",
    "installed_packages_list = sorted([\"%s==%s\" % (i.key, i.version)\n",
    "     for i in installed_packages])\n",
    "print(installed_packages_list)\n",
    "\n",
    "#Path of a module\n",
    "\n",
    "import pymssql\n",
    "print pymssql.__file__\n",
    "\n",
    "#What a module contains\n",
    "\n",
    "import pymssql\n",
    "print dir(pymssql)"
   ]
  },
  {
   "cell_type": "markdown",
   "metadata": {},
   "source": [
    "#Scheduler"
   ]
  },
  {
   "cell_type": "code",
   "execution_count": null,
   "metadata": {
    "collapsed": true
   },
   "outputs": [],
   "source": [
    "import time\n",
    "import sched\n",
    "\n",
    "scheduler = sched.scheduler(time.time, time.sleep)\n",
    "\n",
    "def reddit():\n",
    "  <your code>\n",
    "\n",
    "def scheduler_reddit():\n",
    "\n",
    "  scheduler.enter(0, 1, reddit, ())\n",
    "  scheduler.run()\n",
    "  time.sleep(3600)\n",
    "\n",
    "for i in range(100):\n",
    "  scheduler_reddit()"
   ]
  },
  {
   "cell_type": "markdown",
   "metadata": {},
   "source": [
    "#run_scripts.py"
   ]
  },
  {
   "cell_type": "code",
   "execution_count": null,
   "metadata": {
    "collapsed": true
   },
   "outputs": [],
   "source": [
    "import subprocess\n",
    "subprocess.call(['python', '/Users/vlasis/Desktop/code_ProblemSet6/ps6_encryption.py']) # Just run the program\n",
    "subprocess.check_output(['python', '/Users/vlasis/Desktop/code_ProblemSet6/ps6_encryption.py']) # Also gets you the stdoutb"
   ]
  },
  {
   "cell_type": "markdown",
   "metadata": {},
   "source": [
    "#datetime_generator_1.py"
   ]
  },
  {
   "cell_type": "code",
   "execution_count": null,
   "metadata": {
    "collapsed": true
   },
   "outputs": [],
   "source": [
    "import datetime\n",
    "import pandas as pd\n",
    "\n",
    "start = datetime.datetime.strptime(\"00:00:00\", \"%H:%M:%S\")\n",
    "end = datetime.datetime.strptime(\"10:00:00\", \"%H:%M:%S\")\n",
    "date_generated = [start + datetime.timedelta(seconds=x) for x in range(0,86400)]\n",
    "x=[]\n",
    "for date in date_generated:\n",
    "     x.append(date.strftime(\"%H:%M:%S\"))\n",
    "     \n",
    "     \n",
    "date=pd.DataFrame\n",
    "\n",
    "'''''''''''''''''''''minute interval'''''''''''''''\n",
    "\n",
    "import datetime\n",
    "import numpy as np\n",
    "import pandas as pd\n",
    "from sol_pos_1 import sol_ele\n",
    "\n",
    "start = datetime.datetime.strptime(\"2015-05-23 12:00:00\", \"%Y-%m-%d %H:%M:%S\")\n",
    "end = datetime.datetime.strptime(\"2015-05-23 12:00:00\", \"%Y-%m-%d %H:%M:%S\")\n",
    "date_generated = [start + datetime.timedelta(minutes=x) for x in range(0,35)]\n",
    "x=[]\n",
    "dates=[]\n",
    "elevation=[]\n",
    "for date in date_generated:\n",
    "     x.append(date.strftime(\"%Y-%m-%d %H:%M:%S\"))\n",
    "     day= int(date.strftime('%d'))\n",
    "     hour=int(date.strftime('%H'))+int(date.strftime('%M'))/60.0+int(date.strftime('%S'))/3600.0\n",
    "     print date"
   ]
  },
  {
   "cell_type": "markdown",
   "metadata": {},
   "source": [
    "#Install tables mac\n",
    "1)brew tap homebrew/science <BR>\n",
    "2)brew install hdf5\n"
   ]
  },
  {
   "cell_type": "markdown",
   "metadata": {},
   "source": [
    "#read_csv_as_df.py"
   ]
  },
  {
   "cell_type": "code",
   "execution_count": null,
   "metadata": {
    "collapsed": true
   },
   "outputs": [],
   "source": [
    "import time\n",
    "import pandas as pd\n",
    "import matplotlib.pyplot as plt\n",
    "df=pd.read_csv('/Users/vlasis/Desktop/test.csv')\n",
    "print df.get_value(2,'c')\n",
    "\n",
    "\n",
    "start_time = time.time()\n",
    "print(\"--- %s seconds ---\" % (time.time() - start_time))\n",
    "#plt.plot(df['a'],df['b'])\n",
    "#df['a']=[1,1,1]\n",
    "#df['b']=[1,1,1]\n",
    "#plt.plot(df['a'],df['b'])\n",
    "#plt.show()\n"
   ]
  },
  {
   "cell_type": "markdown",
   "metadata": {},
   "source": [
    "#read_from_csv.py"
   ]
  },
  {
   "cell_type": "code",
   "execution_count": null,
   "metadata": {
    "collapsed": true
   },
   "outputs": [],
   "source": [
    "#PRINT SPECIFIC COLUMN\n",
    "import os\n",
    "import csv\n",
    "os.chdir(\"/Users/vlasis/Desktop/Testcsv\")\n",
    "with open('test1.txt','rb') as f:\n",
    "    reader = csv.reader(f)\n",
    "    for row in reader:\n",
    "        print row[1]\n",
    "    print row   #prints everything\n",
    "\n",
    "                \n",
    "\n",
    "''''''''''''''''''''''''''''''''''''''''''''''''''''''''''''''''''\n",
    "\n",
    "\n",
    "\n",
    "#PRINTS EACH LINE\n",
    "import os\n",
    "os.chdir(\"/Users/vlasis/Desktop/Testcsv\")\n",
    "f=open('test.txt','rb')\n",
    "for line in f:\n",
    "    print line\n",
    "\n",
    "\n",
    "''''''''''''''''''''''''''''''''''''''''''''''''''''''''''''''''''\n",
    "\n",
    "\n",
    "#PRINTS SPECIFIC INDEX FOR 1 FILE\n",
    "import os\n",
    "import pandas as pd\n",
    "os.chdir(\"/Users/vlasis/Desktop/Testcsv\")\n",
    "df = pd.read_csv(\"testcsv1.csv\")\n",
    "value = df.b[2]\n",
    "print value\n",
    "\n",
    "''''''''''''''''''''''''''''''''''''''''''''''''''''''''''''''''''\n",
    "\n",
    "\n",
    "#PRINTS SPECIFIC INDEX FOR  FILE TEST\n",
    "import os\n",
    "import pandas as pd\n",
    "os.chdir(\"/Users/vlasis/Desktop/Testcsv\")\n",
    "df = pd.read_csv(\"*.csv\")\n",
    "value = df.b[2]\n",
    "print value\n",
    "\n",
    "''''''''''''''''''''''''''''''''''''''''''''''''''''''''''''''''''\n",
    "\n",
    "#PRINTS A SPECIFIC (ROW,COLUMN) VALUE\n",
    "import csv\n",
    "import os\n",
    "os.chdir(\"/Users/vlasis/Desktop/Testcsv\")\n",
    "def read_cell(x, y):\n",
    "    with open('test1.txt', 'r') as f:\n",
    "        reader = csv.reader(f)\n",
    "        y_count = 0\n",
    "        for n in reader:\n",
    "            if y_count == y:\n",
    "                cell = n[x]\n",
    "                return cell\n",
    "            y_count += 1\n",
    "\n",
    "\n",
    "print (read_cell(2, 2)) \n",
    "\n",
    "#PRINTS A SPECIFIC (ROW,COLUMN) VALUE fROM 2 FILES\n",
    "import csv\n",
    "import os\n",
    "os.chdir(\"/Users/vlasis/Desktop/Testcsv\")\n",
    "def read_cell(x, y,name):\n",
    "    with open(name, 'r') as f:\n",
    "        reader = csv.reader(f)\n",
    "        y_count = 0\n",
    "        for n in reader:\n",
    "            if y_count == y:\n",
    "                cell = n[x]\n",
    "                return cell\n",
    "           y_count += 1\n",
    "            \n",
    "for i in range(1,3):\n",
    "    name = 'test'+str(i)+'.txt'\n",
    "    print read_cell(2,2,'test'+str(i)+'.txt')\n",
    "\n",
    "''''''''''''''''''''''''''''''''''''''''''''''''''''''''''''''''''\n",
    "\n",
    "#PRINTS LAST LINE\n",
    "import csv\n",
    "import os\n",
    "os.chdir(\"/Users/vlasis/Desktop/Testcsv\")\n",
    "last_line = file(\"/Users/vlasis/Desktop/testcsv1.csv\", \"r\").readlines()[-1]\n",
    "print last_line\n",
    "print type(last_line)\n",
    "#print last_line.index(a)"
   ]
  }
 ],
 "metadata": {
  "kernelspec": {
   "display_name": "Python 2",
   "language": "python",
   "name": "python2"
  },
  "language_info": {
   "codemirror_mode": {
    "name": "ipython",
    "version": 2
   },
   "file_extension": ".py",
   "mimetype": "text/x-python",
   "name": "python",
   "nbconvert_exporter": "python",
   "pygments_lexer": "ipython2",
   "version": "2.7.9"
  }
 },
 "nbformat": 4,
 "nbformat_minor": 0
}
