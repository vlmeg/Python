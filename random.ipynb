{
 "metadata": {
  "name": "",
  "signature": "sha256:85a6edbedc9c6e226d2f380fa1db8ac3eed09a2e20b3b295d61345362dd2f88d"
 },
 "nbformat": 3,
 "nbformat_minor": 0,
 "worksheets": [
  {
   "cells": [
    {
     "cell_type": "heading",
     "level": 3,
     "metadata": {},
     "source": [
      "random.uniform"
     ]
    },
    {
     "cell_type": "code",
     "collapsed": false,
     "input": [
      "import random   \n",
      "import pandas as pd\n",
      "import numpy as np\n",
      "\n",
      " \n",
      "my_randoms=[]    \n",
      "for i in range (4):    \n",
      "    #random.uniform--draws samples from sample distribution\n",
      "    my_randoms.append(random.uniform(1,8))    \n",
      "    print (my_randoms)"
     ],
     "language": "python",
     "metadata": {},
     "outputs": [
      {
       "output_type": "stream",
       "stream": "stdout",
       "text": [
        "[6.356193435704657]\n",
        "[6.356193435704657, 5.28362438054692]\n",
        "[6.356193435704657, 5.28362438054692, 6.841199196644652]\n",
        "[6.356193435704657, 5.28362438054692, 6.841199196644652, 6.393094659369433]\n"
       ]
      }
     ],
     "prompt_number": 2
    },
    {
     "cell_type": "heading",
     "level": 3,
     "metadata": {},
     "source": [
      "Random Floats"
     ]
    },
    {
     "cell_type": "code",
     "collapsed": false,
     "input": [
      "ran_floats = [random.uniform(5.5,8.5) for _ in xrange(5)]\n",
      "ran_floats"
     ],
     "language": "python",
     "metadata": {},
     "outputs": [
      {
       "metadata": {},
       "output_type": "pyout",
       "prompt_number": 2,
       "text": [
        "[7.77639059361282,\n",
        " 8.21236168734724,\n",
        " 6.239279354287542,\n",
        " 8.002453799446924,\n",
        " 7.841790541036069]"
       ]
      }
     ],
     "prompt_number": 2
    },
    {
     "cell_type": "heading",
     "level": 3,
     "metadata": {},
     "source": [
      "randrange_float(start, stop, step)"
     ]
    },
    {
     "cell_type": "code",
     "collapsed": false,
     "input": [
      "def randrange_float(start, stop, step):\n",
      "    return random.randint(0, int((stop - start) / step)) * step + start\n",
      "\n",
      "randrange_float(7.5, 8.5, 0.25)\n"
     ],
     "language": "python",
     "metadata": {},
     "outputs": [
      {
       "metadata": {},
       "output_type": "pyout",
       "prompt_number": 3,
       "text": [
        "8.0"
       ]
      }
     ],
     "prompt_number": 3
    },
    {
     "cell_type": "heading",
     "level": 3,
     "metadata": {},
     "source": [
      "Return a randomly chosen list of n positive integers summing to total.\n",
      "Each such list is equally likely to occur"
     ]
    },
    {
     "cell_type": "code",
     "collapsed": false,
     "input": [
      "def constrained_sum_sample_pos(n, total):\n",
      "    dividers = sorted(random.sample(xrange(1, total), n - 1))\n",
      "    f=[a - b for a, b in zip(dividers + [total], [0] + dividers)]\n",
      "    return f\n",
      "    print sum(f)\n",
      "    \n",
      "  \n",
      "print constrained_sum_sample_pos(24, 180)  "
     ],
     "language": "python",
     "metadata": {},
     "outputs": [
      {
       "output_type": "stream",
       "stream": "stdout",
       "text": [
        "[6, 40, 5, 2, 3, 4, 5, 7, 2, 5, 1, 6, 11, 1, 3, 21, 3, 24, 1, 7, 8, 5, 8, 2]\n"
       ]
      }
     ],
     "prompt_number": 4
    },
    {
     "cell_type": "heading",
     "level": 3,
     "metadata": {},
     "source": [
      "Dirichlet Distribution"
     ]
    },
    {
     "cell_type": "code",
     "collapsed": false,
     "input": [
      "np.random.dirichlet(np.ones(10),size=1)    "
     ],
     "language": "python",
     "metadata": {},
     "outputs": [
      {
       "metadata": {},
       "output_type": "pyout",
       "prompt_number": 4,
       "text": [
        "array([[ 0.03140554,  0.05919145,  0.04380193,  0.01745383,  0.28694936,\n",
        "         0.0817531 ,  0.05467276,  0.29450208,  0.06506757,  0.06520238]])"
       ]
      }
     ],
     "prompt_number": 4
    },
    {
     "cell_type": "heading",
     "level": 3,
     "metadata": {},
     "source": [
      "Return a randomly chosen list of n positive integers summing to total.\n",
      "Each such list is equally likely to occur"
     ]
    },
    {
     "cell_type": "code",
     "collapsed": false,
     "input": [
      "def constrained_sum_sample_pos(n, total):\n",
      "    dividers = sorted(random.sample(xrange(1, total), n - 1))\n",
      "    f=[a - b for a, b in zip(dividers + [total], [0] + dividers)]\n",
      "    return f\n",
      "print constrained_sum_sample_pos(24, 180)  "
     ],
     "language": "python",
     "metadata": {},
     "outputs": [
      {
       "output_type": "stream",
       "stream": "stdout",
       "text": [
        "[1, 15, 15, 2, 15, 1, 12, 4, 4, 1, 3, 3, 5, 20, 6, 7, 12, 1, 20, 7, 1, 3, 3, 19]\n"
       ]
      }
     ],
     "prompt_number": 6
    },
    {
     "cell_type": "code",
     "collapsed": false,
     "input": [],
     "language": "python",
     "metadata": {},
     "outputs": []
    },
    {
     "cell_type": "code",
     "collapsed": false,
     "input": [
      "import random as r\n",
      "def random_sum_to(n, num_terms = None):\n",
      "    num_terms = (num_terms or r.randint(7, 8)) - 1\n",
      "    a = r.sample(range(1, n), num_terms) + [7, 8]\n",
      "    list.sort(a)\n",
      "    return [a[i+1] - a[i] for i in range(len(a) - 1)]\n",
      "\n",
      "print random_sum_to(20,3)   # [9, 7, 4] for example"
     ],
     "language": "python",
     "metadata": {},
     "outputs": [
      {
       "output_type": "stream",
       "stream": "stdout",
       "text": [
        "[2, 1, 6]\n"
       ]
      }
     ],
     "prompt_number": 8
    },
    {
     "cell_type": "heading",
     "level": 3,
     "metadata": {},
     "source": [
      "Finding all possible combinations of numbers to reach a given sum"
     ]
    },
    {
     "cell_type": "code",
     "collapsed": false,
     "input": [
      "from itertools import combinations\n",
      "\n",
      "def find_sum_in_list(numbers, target):\n",
      "    results = []\n",
      "    for x in range(len(numbers)):\n",
      "        results.extend(\n",
      "            [   \n",
      "                combo for combo in combinations(numbers ,x)  \n",
      "                    if sum(combo) == target\n",
      "            ]   \n",
      "        )   \n",
      "\n",
      "    print results\n",
      "\n",
      "if __name__ == \"__main__\":\n",
      "    find_sum_in_list([3,9,8,4,5,7,10], 30)"
     ],
     "language": "python",
     "metadata": {},
     "outputs": [
      {
       "output_type": "stream",
       "stream": "stdout",
       "text": [
        "[(3, 9, 8, 10), (9, 4, 7, 10), (8, 5, 7, 10), (3, 8, 4, 5, 10)]\n"
       ]
      }
     ],
     "prompt_number": 9
    },
    {
     "cell_type": "heading",
     "level": 3,
     "metadata": {},
     "source": [
      "Reservoir sampling<br />\n",
      "Retrieve k random numbers from an array of undetermined size we use a technique called reservoir sampling"
     ]
    },
    {
     "cell_type": "code",
     "collapsed": false,
     "input": [
      "import random\n",
      "def random_subset( iterator, K ):\n",
      "    result = []\n",
      "    N = 0\n",
      "\n",
      "    for item in iterator:\n",
      "        N += 1\n",
      "        if len( result ) < K:\n",
      "            result.append( item )\n",
      "        else:\n",
      "            s = int(random.random() * N)\n",
      "            if s < K:\n",
      "                result[ s ] = item\n",
      "\n",
      "    return result\n",
      "    \n",
      "    \n",
      "random_subset( [1,2,5,5,3,4,56,7,3,2,34,34,6,34,5], 6 )"
     ],
     "language": "python",
     "metadata": {},
     "outputs": [
      {
       "metadata": {},
       "output_type": "pyout",
       "prompt_number": 10,
       "text": [
        "[1, 34, 34, 5, 7, 5]"
       ]
      }
     ],
     "prompt_number": 10
    },
    {
     "cell_type": "heading",
     "level": 3,
     "metadata": {},
     "source": [
      "Test"
     ]
    },
    {
     "cell_type": "code",
     "collapsed": false,
     "input": [
      "x=[]\n",
      "for i in range(1,1000):\n",
      "    a=round(randrange_float(7.5, 8.5, 0.25),2)\n",
      "    x.append(a)\n",
      "    for i in range(1,1000):\n",
      "        b=random_subset(x, 24)\n",
      "        if sum(b<164):\n",
      "            print b\n",
      "            print sum(b)\n",
      "    "
     ],
     "language": "python",
     "metadata": {},
     "outputs": []
    }
   ],
   "metadata": {}
  }
 ]
}
